{
  "nbformat": 4,
  "nbformat_minor": 0,
  "metadata": {
    "kernelspec": {
      "display_name": "Python 3",
      "language": "python",
      "name": "python3"
    },
    "language_info": {
      "codemirror_mode": {
        "name": "ipython",
        "version": 3
      },
      "file_extension": ".py",
      "mimetype": "text/x-python",
      "name": "python",
      "nbconvert_exporter": "python",
      "pygments_lexer": "ipython3",
      "version": "3.7.7"
    },
    "colab": {
      "name": "Twitter Sentiment Analysis.ipynb",
      "provenance": [],
      "collapsed_sections": []
    }
  },
  "cells": [
    {
      "cell_type": "code",
      "metadata": {
        "scrolled": true,
        "id": "e1xpkmZMo1E4",
        "colab_type": "code",
        "colab": {
          "base_uri": "https://localhost:8080/",
          "height": 34
        },
        "outputId": "75bd26ea-acc2-4cf9-b652-7ad93acf0096"
      },
      "source": [
        "import keras\n",
        "import numpy as np\n",
        "import pandas as pd"
      ],
      "execution_count": 1,
      "outputs": [
        {
          "output_type": "stream",
          "text": [
            "Using TensorFlow backend.\n"
          ],
          "name": "stderr"
        }
      ]
    },
    {
      "cell_type": "code",
      "metadata": {
        "id": "6TIXw_Lho1E_",
        "colab_type": "code",
        "colab": {}
      },
      "source": [
        "datat = pd.read_csv('train_tweets.csv')\n",
        "data= pd.read_csv('test_tweets.csv')"
      ],
      "execution_count": 4,
      "outputs": []
    },
    {
      "cell_type": "code",
      "metadata": {
        "id": "pKZvxFWSo1FD",
        "colab_type": "code",
        "colab": {
          "base_uri": "https://localhost:8080/",
          "height": 359
        },
        "outputId": "1ea0074e-b0ec-46c2-b0ec-0d43353d2b9b"
      },
      "source": [
        "datat.head(n=10)"
      ],
      "execution_count": 5,
      "outputs": [
        {
          "output_type": "execute_result",
          "data": {
            "text/html": [
              "<div>\n",
              "<style scoped>\n",
              "    .dataframe tbody tr th:only-of-type {\n",
              "        vertical-align: middle;\n",
              "    }\n",
              "\n",
              "    .dataframe tbody tr th {\n",
              "        vertical-align: top;\n",
              "    }\n",
              "\n",
              "    .dataframe thead th {\n",
              "        text-align: right;\n",
              "    }\n",
              "</style>\n",
              "<table border=\"1\" class=\"dataframe\">\n",
              "  <thead>\n",
              "    <tr style=\"text-align: right;\">\n",
              "      <th></th>\n",
              "      <th>id</th>\n",
              "      <th>label</th>\n",
              "      <th>tweet</th>\n",
              "    </tr>\n",
              "  </thead>\n",
              "  <tbody>\n",
              "    <tr>\n",
              "      <th>0</th>\n",
              "      <td>1</td>\n",
              "      <td>0</td>\n",
              "      <td>@user when a father is dysfunctional and is s...</td>\n",
              "    </tr>\n",
              "    <tr>\n",
              "      <th>1</th>\n",
              "      <td>2</td>\n",
              "      <td>0</td>\n",
              "      <td>@user @user thanks for #lyft credit i can't us...</td>\n",
              "    </tr>\n",
              "    <tr>\n",
              "      <th>2</th>\n",
              "      <td>3</td>\n",
              "      <td>0</td>\n",
              "      <td>bihday your majesty</td>\n",
              "    </tr>\n",
              "    <tr>\n",
              "      <th>3</th>\n",
              "      <td>4</td>\n",
              "      <td>0</td>\n",
              "      <td>#model   i love u take with u all the time in ...</td>\n",
              "    </tr>\n",
              "    <tr>\n",
              "      <th>4</th>\n",
              "      <td>5</td>\n",
              "      <td>0</td>\n",
              "      <td>factsguide: society now    #motivation</td>\n",
              "    </tr>\n",
              "    <tr>\n",
              "      <th>5</th>\n",
              "      <td>6</td>\n",
              "      <td>0</td>\n",
              "      <td>[2/2] huge fan fare and big talking before the...</td>\n",
              "    </tr>\n",
              "    <tr>\n",
              "      <th>6</th>\n",
              "      <td>7</td>\n",
              "      <td>0</td>\n",
              "      <td>@user camping tomorrow @user @user @user @use...</td>\n",
              "    </tr>\n",
              "    <tr>\n",
              "      <th>7</th>\n",
              "      <td>8</td>\n",
              "      <td>0</td>\n",
              "      <td>the next school year is the year for exams.ð...</td>\n",
              "    </tr>\n",
              "    <tr>\n",
              "      <th>8</th>\n",
              "      <td>9</td>\n",
              "      <td>0</td>\n",
              "      <td>we won!!! love the land!!! #allin #cavs #champ...</td>\n",
              "    </tr>\n",
              "    <tr>\n",
              "      <th>9</th>\n",
              "      <td>10</td>\n",
              "      <td>0</td>\n",
              "      <td>@user @user welcome here !  i'm   it's so #gr...</td>\n",
              "    </tr>\n",
              "  </tbody>\n",
              "</table>\n",
              "</div>"
            ],
            "text/plain": [
              "   id  label                                              tweet\n",
              "0   1      0   @user when a father is dysfunctional and is s...\n",
              "1   2      0  @user @user thanks for #lyft credit i can't us...\n",
              "2   3      0                                bihday your majesty\n",
              "3   4      0  #model   i love u take with u all the time in ...\n",
              "4   5      0             factsguide: society now    #motivation\n",
              "5   6      0  [2/2] huge fan fare and big talking before the...\n",
              "6   7      0   @user camping tomorrow @user @user @user @use...\n",
              "7   8      0  the next school year is the year for exams.ð...\n",
              "8   9      0  we won!!! love the land!!! #allin #cavs #champ...\n",
              "9  10      0   @user @user welcome here !  i'm   it's so #gr..."
            ]
          },
          "metadata": {
            "tags": []
          },
          "execution_count": 5
        }
      ]
    },
    {
      "cell_type": "code",
      "metadata": {
        "id": "60tRoT3lo1FI",
        "colab_type": "code",
        "colab": {}
      },
      "source": [
        "datat.isnull().sum()"
      ],
      "execution_count": null,
      "outputs": []
    },
    {
      "cell_type": "code",
      "metadata": {
        "id": "G-lo0Iezo1FM",
        "colab_type": "code",
        "colab": {
          "base_uri": "https://localhost:8080/",
          "height": 68
        },
        "outputId": "ebffe1a5-cd34-4ada-c525-d1362d7fda69"
      },
      "source": [
        "datat['label'].value_counts()"
      ],
      "execution_count": 6,
      "outputs": [
        {
          "output_type": "execute_result",
          "data": {
            "text/plain": [
              "0    29720\n",
              "1     2242\n",
              "Name: label, dtype: int64"
            ]
          },
          "metadata": {
            "tags": []
          },
          "execution_count": 6
        }
      ]
    },
    {
      "cell_type": "code",
      "metadata": {
        "id": "zprs0D_o4GGk",
        "colab_type": "code",
        "colab": {
          "base_uri": "https://localhost:8080/",
          "height": 282
        },
        "outputId": "6da18f32-ff92-4590-d89e-f711ffba6db5"
      },
      "source": [
        "import matplotlib.pyplot as plt\n",
        "plt.bar(datat['label'].value_counts().index, datat['label'].value_counts().values)"
      ],
      "execution_count": 7,
      "outputs": [
        {
          "output_type": "execute_result",
          "data": {
            "text/plain": [
              "<BarContainer object of 2 artists>"
            ]
          },
          "metadata": {
            "tags": []
          },
          "execution_count": 7
        },
        {
          "output_type": "display_data",
          "data": {
            "image/png": "[encoded data removed]",
            "text/plain": [
              "<Figure size 432x288 with 1 Axes>"
            ]
          },
          "metadata": {
            "tags": [],
            "needs_background": "light"
          }
        }
      ]
    },
    {
      "cell_type": "markdown",
      "metadata": {
        "id": "MoJ3s8MN-scs",
        "colab_type": "text"
      },
      "source": [
        "## Training Data Creation"
      ]
    },
    {
      "cell_type": "code",
      "metadata": {
        "id": "D9bCcSKO-xVb",
        "colab_type": "code",
        "colab": {
          "base_uri": "https://localhost:8080/",
          "height": 51
        },
        "outputId": "bc3c7d02-7ccb-4b65-d42e-6ee0984893a0"
      },
      "source": [
        "import re\n",
        "import nltk\n",
        "\n",
        "from nltk.corpus import stopwords\n",
        "from nltk.stem.porter import PorterStemmer\n",
        "from tensorflow.keras.preprocessing.text import Tokenizer\n",
        "from tensorflow.keras.preprocessing.sequence import pad_sequences\n",
        "nltk.download('stopwords')\n",
        "\n",
        "sentences=[]\n",
        "for i in range(0, datat.shape[0]):\n",
        "    review= re.sub('[^a-zA-Z]', ' ', datat[\"tweet\"][i])\n",
        "    review= review.lower()\n",
        "    review= review.split()\n",
        "    review=[word for word in review if not word in set(stopwords.words('english'))]\n",
        "    ps= PorterStemmer()\n",
        "    review =[ps.stem(word) for word in review if not word in set(stopwords.words('english'))]\n",
        "    review=' '.join(review)\n",
        "    sentences.append(review)\n"
      ],
      "execution_count": 8,
      "outputs": [
        {
          "output_type": "stream",
          "text": [
            "[nltk_data] Downloading package stopwords to /root/nltk_data...\n",
            "[nltk_data]   Package stopwords is already up-to-date!\n"
          ],
          "name": "stdout"
        }
      ]
    },
    {
      "cell_type": "code",
      "metadata": {
        "id": "lruUOPT_AbNA",
        "colab_type": "code",
        "colab": {}
      },
      "source": [
        "y_unsampled = np.array(datat['label'])\n",
        "num_words = 40000\n",
        "tokenizer = Tokenizer(num_words=num_words)\n",
        "train_tokens = tokenizer.fit_on_texts(sentences)\n",
        "dict_word = tokenizer.index_word\n",
        "\n",
        "vocab_size = len(dict_word.keys())\n",
        "max_length = 40\n",
        "\n",
        "seq = tokenizer.texts_to_sequences(sentences)\n",
        "padded_data = pad_sequences(seq, padding=\"post\", maxlen = max_length)"
      ],
      "execution_count": 12,
      "outputs": []
    },
    {
      "cell_type": "code",
      "metadata": {
        "id": "-JAthi3bDbWn",
        "colab_type": "code",
        "colab": {
          "base_uri": "https://localhost:8080/",
          "height": 68
        },
        "outputId": "5ffc761c-869d-4dc8-b412-4418dfb517b1"
      },
      "source": [
        "sampled_data['Label'].value_counts()"
      ],
      "execution_count": null,
      "outputs": [
        {
          "output_type": "execute_result",
          "data": {
            "text/plain": [
              "1.0    1430\n",
              "0.0    1429\n",
              "Name: Label, dtype: int64"
            ]
          },
          "metadata": {
            "tags": []
          },
          "execution_count": 74
        }
      ]
    },
    {
      "cell_type": "code",
      "metadata": {
        "id": "7hFsdl0CD2IN",
        "colab_type": "code",
        "colab": {}
      },
      "source": [
        "y_train_sampled = sampled_data.pop('Label')\n",
        "padded_sampled = sampled_data.to_numpy()"
      ],
      "execution_count": null,
      "outputs": []
    },
    {
      "cell_type": "markdown",
      "metadata": {
        "id": "4Si_ottF_GG3",
        "colab_type": "text"
      },
      "source": [
        "## Modeling\n"
      ]
    },
    {
      "cell_type": "code",
      "metadata": {
        "id": "RTucuuUto1F5",
        "colab_type": "code",
        "colab": {}
      },
      "source": [
        "from keras.models import Sequential\n",
        "from keras.layers import Dense, Embedding, GlobalAveragePooling1D\n",
        "import tensorflow as tf\n",
        "\n",
        "class myCallBack(tf.keras.callbacks.Callback):\n",
        "  def on_epoch_end(self, epoch, logs = {}):\n",
        "    if logs['val_accuracy']>0.95:\n",
        "      self.model.stop_training = True\n",
        "\n",
        "callback = myCallBack()"
      ],
      "execution_count": 14,
      "outputs": []
    },
    {
      "cell_type": "code",
      "metadata": {
        "id": "CFxPXKKCIDzL",
        "colab_type": "code",
        "colab": {
          "base_uri": "https://localhost:8080/",
          "height": 1000
        },
        "outputId": "fe5d4194-eaa6-4c6a-e99e-e626cb004a66"
      },
      "source": [
        "class myCallBack(tf.keras.callbacks.Callback):\n",
        "  def on_epoch_end(self, epoch, logs = {}):\n",
        "    if logs['val_accuracy']>0.95:\n",
        "      self.model.stop_training = True\n",
        "\n",
        "callback = myCallBack()\n",
        "model= Sequential()\n",
        "model.add(Embedding(vocab_size,output_dim=100, input_length = 40))\n",
        "model.add(GlobalAveragePooling1D())\n",
        "model.add(Dense(units=50, activation='sigmoid', kernel_initializer='random_uniform'))\n",
        "model.add(Dense(units=1, activation='sigmoid', kernel_initializer='random_uniform'))\n",
        "model.compile(optimizer='adam', loss='binary_crossentropy', metrics=['accuracy'])\n",
        "history = model.fit(padded_sampled, y_train, epochs=50, validation_data = (padded_vad, y_vad), callbacks=[callback])"
      ],
      "execution_count": null,
      "outputs": [
        {
          "output_type": "stream",
          "text": [
            "/usr/local/lib/python3.6/dist-packages/tensorflow/python/framework/indexed_slices.py:434: UserWarning: Converting sparse IndexedSlices to a dense Tensor of unknown shape. This may consume a large amount of memory.\n",
            "  \"Converting sparse IndexedSlices to a dense Tensor of unknown shape. \"\n"
          ],
          "name": "stderr"
        },
        {
          "output_type": "stream",
          "text": [
            "Train on 2574 samples, validate on 285 samples\n",
            "Epoch 1/50\n",
            "2574/2574 [==============================] - 3s 1ms/step - loss: 0.6940 - accuracy: 0.4977 - val_loss: 0.6924 - val_accuracy: 0.5193\n",
            "Epoch 2/50\n",
            "2574/2574 [==============================] - 3s 1ms/step - loss: 0.6940 - accuracy: 0.5109 - val_loss: 0.6938 - val_accuracy: 0.4807\n",
            "Epoch 3/50\n",
            "2574/2574 [==============================] - 3s 1ms/step - loss: 0.6934 - accuracy: 0.4969 - val_loss: 0.6938 - val_accuracy: 0.4807\n",
            "Epoch 4/50\n",
            "2574/2574 [==============================] - 3s 1ms/step - loss: 0.6933 - accuracy: 0.4992 - val_loss: 0.6982 - val_accuracy: 0.4807\n",
            "Epoch 5/50\n",
            "2574/2574 [==============================] - 3s 1ms/step - loss: 0.6912 - accuracy: 0.5190 - val_loss: 0.6944 - val_accuracy: 0.4667\n",
            "Epoch 6/50\n",
            "2574/2574 [==============================] - 3s 1ms/step - loss: 0.6824 - accuracy: 0.6402 - val_loss: 0.6958 - val_accuracy: 0.4772\n",
            "Epoch 7/50\n",
            "2574/2574 [==============================] - 3s 1ms/step - loss: 0.6541 - accuracy: 0.7032 - val_loss: 0.6999 - val_accuracy: 0.5018\n",
            "Epoch 8/50\n",
            "2574/2574 [==============================] - 3s 1ms/step - loss: 0.5773 - accuracy: 0.7859 - val_loss: 0.7296 - val_accuracy: 0.5053\n",
            "Epoch 9/50\n",
            "2574/2574 [==============================] - 3s 1ms/step - loss: 0.4604 - accuracy: 0.8411 - val_loss: 0.7545 - val_accuracy: 0.4982\n",
            "Epoch 10/50\n",
            "2574/2574 [==============================] - 3s 1ms/step - loss: 0.3530 - accuracy: 0.8788 - val_loss: 0.8318 - val_accuracy: 0.4947\n",
            "Epoch 11/50\n",
            "2574/2574 [==============================] - 3s 1ms/step - loss: 0.2790 - accuracy: 0.8982 - val_loss: 0.8834 - val_accuracy: 0.5123\n",
            "Epoch 12/50\n",
            "2574/2574 [==============================] - 3s 1ms/step - loss: 0.2270 - accuracy: 0.9161 - val_loss: 0.9560 - val_accuracy: 0.5053\n",
            "Epoch 13/50\n",
            "2574/2574 [==============================] - 3s 1ms/step - loss: 0.1921 - accuracy: 0.9262 - val_loss: 1.0228 - val_accuracy: 0.5088\n",
            "Epoch 14/50\n",
            "2574/2574 [==============================] - 3s 1ms/step - loss: 0.1658 - accuracy: 0.9375 - val_loss: 1.0841 - val_accuracy: 0.4982\n",
            "Epoch 15/50\n",
            "2574/2574 [==============================] - 3s 1ms/step - loss: 0.1453 - accuracy: 0.9464 - val_loss: 1.1523 - val_accuracy: 0.4912\n",
            "Epoch 16/50\n",
            "2574/2574 [==============================] - 3s 1ms/step - loss: 0.1318 - accuracy: 0.9487 - val_loss: 1.2099 - val_accuracy: 0.4877\n",
            "Epoch 17/50\n",
            "2574/2574 [==============================] - 3s 1ms/step - loss: 0.1133 - accuracy: 0.9580 - val_loss: 1.2682 - val_accuracy: 0.4947\n",
            "Epoch 18/50\n",
            "2574/2574 [==============================] - 3s 1ms/step - loss: 0.1041 - accuracy: 0.9561 - val_loss: 1.3297 - val_accuracy: 0.4877\n",
            "Epoch 19/50\n",
            "2574/2574 [==============================] - 3s 1ms/step - loss: 0.0952 - accuracy: 0.9615 - val_loss: 1.3755 - val_accuracy: 0.4842\n",
            "Epoch 20/50\n",
            "2574/2574 [==============================] - 3s 1ms/step - loss: 0.0890 - accuracy: 0.9631 - val_loss: 1.4256 - val_accuracy: 0.5018\n",
            "Epoch 21/50\n",
            "2574/2574 [==============================] - 3s 1ms/step - loss: 0.0829 - accuracy: 0.9643 - val_loss: 1.4660 - val_accuracy: 0.4877\n",
            "Epoch 22/50\n",
            "2574/2574 [==============================] - 3s 1ms/step - loss: 0.0789 - accuracy: 0.9678 - val_loss: 1.5155 - val_accuracy: 0.4947\n",
            "Epoch 23/50\n",
            "2574/2574 [==============================] - 3s 1ms/step - loss: 0.0734 - accuracy: 0.9650 - val_loss: 1.5698 - val_accuracy: 0.4842\n",
            "Epoch 24/50\n",
            "2574/2574 [==============================] - 3s 1ms/step - loss: 0.0706 - accuracy: 0.9693 - val_loss: 1.6113 - val_accuracy: 0.4947\n",
            "Epoch 25/50\n",
            "2574/2574 [==============================] - 3s 1ms/step - loss: 0.0669 - accuracy: 0.9713 - val_loss: 1.6514 - val_accuracy: 0.4947\n",
            "Epoch 26/50\n",
            "2574/2574 [==============================] - 3s 1ms/step - loss: 0.0650 - accuracy: 0.9713 - val_loss: 1.6912 - val_accuracy: 0.4982\n",
            "Epoch 27/50\n",
            "2574/2574 [==============================] - 3s 1ms/step - loss: 0.0611 - accuracy: 0.9685 - val_loss: 1.7293 - val_accuracy: 0.4877\n",
            "Epoch 28/50\n",
            "2574/2574 [==============================] - 3s 1ms/step - loss: 0.0631 - accuracy: 0.9701 - val_loss: 1.7788 - val_accuracy: 0.4982\n",
            "Epoch 29/50\n",
            "2574/2574 [==============================] - 3s 1ms/step - loss: 0.0585 - accuracy: 0.9701 - val_loss: 1.8050 - val_accuracy: 0.4912\n",
            "Epoch 30/50\n",
            "2574/2574 [==============================] - 3s 1ms/step - loss: 0.0603 - accuracy: 0.9697 - val_loss: 1.8425 - val_accuracy: 0.4912\n",
            "Epoch 31/50\n",
            "2574/2574 [==============================] - 3s 1ms/step - loss: 0.0556 - accuracy: 0.9732 - val_loss: 1.8737 - val_accuracy: 0.5123\n",
            "Epoch 32/50\n",
            "2574/2574 [==============================] - 3s 1ms/step - loss: 0.0536 - accuracy: 0.9763 - val_loss: 1.9010 - val_accuracy: 0.4842\n",
            "Epoch 33/50\n",
            "2574/2574 [==============================] - 3s 1ms/step - loss: 0.0551 - accuracy: 0.9755 - val_loss: 1.9425 - val_accuracy: 0.4982\n",
            "Epoch 34/50\n",
            "2574/2574 [==============================] - 3s 1ms/step - loss: 0.0529 - accuracy: 0.9736 - val_loss: 1.9836 - val_accuracy: 0.5053\n",
            "Epoch 35/50\n",
            "2574/2574 [==============================] - 3s 1ms/step - loss: 0.0506 - accuracy: 0.9736 - val_loss: 1.9937 - val_accuracy: 0.5018\n",
            "Epoch 36/50\n",
            "2574/2574 [==============================] - 3s 1ms/step - loss: 0.0503 - accuracy: 0.9701 - val_loss: 2.0371 - val_accuracy: 0.4947\n",
            "Epoch 37/50\n",
            "2574/2574 [==============================] - 3s 1ms/step - loss: 0.0498 - accuracy: 0.9740 - val_loss: 2.0522 - val_accuracy: 0.5088\n",
            "Epoch 38/50\n",
            "2574/2574 [==============================] - 3s 1ms/step - loss: 0.0546 - accuracy: 0.9720 - val_loss: 2.0689 - val_accuracy: 0.4912\n",
            "Epoch 39/50\n",
            "2574/2574 [==============================] - 3s 1ms/step - loss: 0.0497 - accuracy: 0.9755 - val_loss: 2.1150 - val_accuracy: 0.4982\n",
            "Epoch 40/50\n",
            "2574/2574 [==============================] - 3s 1ms/step - loss: 0.0484 - accuracy: 0.9740 - val_loss: 2.1284 - val_accuracy: 0.4982\n",
            "Epoch 41/50\n",
            "2574/2574 [==============================] - 3s 1ms/step - loss: 0.0458 - accuracy: 0.9732 - val_loss: 2.1596 - val_accuracy: 0.4982\n",
            "Epoch 42/50\n",
            "2574/2574 [==============================] - 3s 1ms/step - loss: 0.0458 - accuracy: 0.9759 - val_loss: 2.1777 - val_accuracy: 0.4982\n",
            "Epoch 43/50\n",
            "2574/2574 [==============================] - 3s 1ms/step - loss: 0.0478 - accuracy: 0.9747 - val_loss: 2.2199 - val_accuracy: 0.5123\n",
            "Epoch 44/50\n",
            "2574/2574 [==============================] - 3s 1ms/step - loss: 0.0460 - accuracy: 0.9763 - val_loss: 2.2165 - val_accuracy: 0.5158\n",
            "Epoch 45/50\n",
            "2574/2574 [==============================] - 3s 1ms/step - loss: 0.0435 - accuracy: 0.9767 - val_loss: 2.2413 - val_accuracy: 0.5193\n",
            "Epoch 46/50\n",
            "2574/2574 [==============================] - 3s 1ms/step - loss: 0.0476 - accuracy: 0.9755 - val_loss: 2.2607 - val_accuracy: 0.5088\n",
            "Epoch 47/50\n",
            "2574/2574 [==============================] - 3s 1ms/step - loss: 0.0460 - accuracy: 0.9763 - val_loss: 2.3403 - val_accuracy: 0.4877\n",
            "Epoch 48/50\n",
            "2574/2574 [==============================] - 3s 1ms/step - loss: 0.0504 - accuracy: 0.9728 - val_loss: 2.3041 - val_accuracy: 0.5158\n",
            "Epoch 49/50\n",
            "2574/2574 [==============================] - 3s 1ms/step - loss: 0.0459 - accuracy: 0.9736 - val_loss: 2.3171 - val_accuracy: 0.5053\n",
            "Epoch 50/50\n",
            "2574/2574 [==============================] - 3s 1ms/step - loss: 0.0486 - accuracy: 0.9763 - val_loss: 2.3608 - val_accuracy: 0.4947\n"
          ],
          "name": "stdout"
        }
      ]
    },
    {
      "cell_type": "markdown",
      "metadata": {
        "id": "sHfKYuS2JFNJ",
        "colab_type": "text"
      },
      "source": [
        "## Over Sampling"
      ]
    },
    {
      "cell_type": "code",
      "metadata": {
        "id": "3_XWw_IJIRBp",
        "colab_type": "code",
        "colab": {
          "base_uri": "https://localhost:8080/",
          "height": 139
        },
        "outputId": "c0eab36a-d20f-423b-de6c-fc650d2c5199"
      },
      "source": [
        "from imblearn.over_sampling import SMOTE\n",
        "oversampling = SMOTE()\n",
        "padded_oversampled, y_train_oversampled = oversampling.fit_resample(padded_data, y_unsampled)"
      ],
      "execution_count": 15,
      "outputs": [
        {
          "output_type": "stream",
          "text": [
            "/usr/local/lib/python3.6/dist-packages/sklearn/externals/six.py:31: FutureWarning: The module is deprecated in version 0.21 and will be removed in version 0.23 since we've dropped support for Python 2.7. Please rely on the official version of six (https://pypi.org/project/six/).\n",
            "  \"(https://pypi.org/project/six/).\", FutureWarning)\n",
            "/usr/local/lib/python3.6/dist-packages/sklearn/utils/deprecation.py:144: FutureWarning: The sklearn.neighbors.base module is  deprecated in version 0.22 and will be removed in version 0.24. The corresponding classes / functions should instead be imported from sklearn.neighbors. Anything that cannot be imported from sklearn.neighbors is now part of the private API.\n",
            "  warnings.warn(message, FutureWarning)\n",
            "/usr/local/lib/python3.6/dist-packages/sklearn/utils/deprecation.py:87: FutureWarning: Function safe_indexing is deprecated; safe_indexing is deprecated in version 0.22 and will be removed in version 0.24.\n",
            "  warnings.warn(msg, category=FutureWarning)\n"
          ],
          "name": "stderr"
        }
      ]
    },
    {
      "cell_type": "code",
      "metadata": {
        "id": "WIvO1Jm6I5Oc",
        "colab_type": "code",
        "colab": {
          "base_uri": "https://localhost:8080/",
          "height": 34
        },
        "outputId": "0ccce810-0e71-4b95-d1a4-ce33085b6205"
      },
      "source": [
        "padded_oversampled.shape"
      ],
      "execution_count": 16,
      "outputs": [
        {
          "output_type": "execute_result",
          "data": {
            "text/plain": [
              "(59440, 40)"
            ]
          },
          "metadata": {
            "tags": []
          },
          "execution_count": 16
        }
      ]
    },
    {
      "cell_type": "code",
      "metadata": {
        "id": "a2uLRprsI88m",
        "colab_type": "code",
        "colab": {
          "base_uri": "https://localhost:8080/",
          "height": 34
        },
        "outputId": "fb7aa3b2-9676-415f-c82c-4d29149c7318"
      },
      "source": [
        "y_train_oversampled.shape"
      ],
      "execution_count": 17,
      "outputs": [
        {
          "output_type": "execute_result",
          "data": {
            "text/plain": [
              "(59440,)"
            ]
          },
          "metadata": {
            "tags": []
          },
          "execution_count": 17
        }
      ]
    },
    {
      "cell_type": "code",
      "metadata": {
        "id": "lsMKJjS3I-sk",
        "colab_type": "code",
        "colab": {
          "base_uri": "https://localhost:8080/",
          "height": 68
        },
        "outputId": "ff8f868d-b6d5-4eee-950d-6acbfb419cee"
      },
      "source": [
        "pd.Series(y_train_oversampled).value_counts()"
      ],
      "execution_count": 18,
      "outputs": [
        {
          "output_type": "execute_result",
          "data": {
            "text/plain": [
              "1    29720\n",
              "0    29720\n",
              "dtype: int64"
            ]
          },
          "metadata": {
            "tags": []
          },
          "execution_count": 18
        }
      ]
    },
    {
      "cell_type": "code",
      "metadata": {
        "id": "K51AbkvYJDPQ",
        "colab_type": "code",
        "colab": {}
      },
      "source": [
        "valid_perc = 0.2\n",
        "len_valid = int(0.1*(padded_oversampled.shape[0]))\n",
        "padded_vad = padded_oversampled[:len_valid]\n",
        "y_vad = y_train_oversampled[:len_valid]\n",
        "\n",
        "\n",
        "y_train_oversampled = y_train_oversampled[len_valid:]\n",
        "padded_oversampled = padded_oversampled[len_valid:]"
      ],
      "execution_count": 19,
      "outputs": []
    },
    {
      "cell_type": "code",
      "metadata": {
        "id": "iRVvAGxmb2NX",
        "colab_type": "code",
        "colab": {
          "base_uri": "https://localhost:8080/",
          "height": 279
        },
        "outputId": "479f7825-422c-4e87-b2db-d5a262552f68"
      },
      "source": [
        "def plot_graph(history, string):\n",
        "  plt.plot(history.history[string])\n",
        "  plt.plot(history.history['val_'+string])\n",
        "  plt.xlabel(\"Epochs\")\n",
        "  plt.ylabel(string)\n",
        "  plt.legend([string, 'val_'+string])\n",
        "plot_graph(history, \"accuracy\")"
      ],
      "execution_count": null,
      "outputs": [
        {
          "output_type": "display_data",
          "data": {
            "image/png": "[encoded data removed]",
            "text/plain": [
              "<Figure size 432x288 with 1 Axes>"
            ]
          },
          "metadata": {
            "tags": [],
            "needs_background": "light"
          }
        }
      ]
    },
    {
      "cell_type": "code",
      "metadata": {
        "id": "rTzthWVIiNzD",
        "colab_type": "code",
        "colab": {
          "base_uri": "https://localhost:8080/",
          "height": 292
        },
        "outputId": "58eb3589-7e3c-4848-c344-549509d9d1f3"
      },
      "source": [
        "padded_oversampled, y_train_oversampled = oversampling.fit_resample(padded_data, y_unsampled)\n",
        "\n",
        "model= Sequential()\n",
        "model.add(Embedding(40000,output_dim=100, input_length = 40))\n",
        "model.add(GlobalAveragePooling1D())\n",
        "model.add(Dense(units=50, activation='relu', kernel_initializer='random_uniform'))\n",
        "model.add(Dense(units=1, activation='sigmoid', kernel_initializer='random_uniform'))\n",
        "model.compile(optimizer='adam', loss='binary_crossentropy', metrics=['accuracy'])\n",
        "\n",
        "model.fit(padded_oversampled, y_train_oversampled, epochs=5)"
      ],
      "execution_count": 21,
      "outputs": [
        {
          "output_type": "stream",
          "text": [
            "/usr/local/lib/python3.6/dist-packages/sklearn/utils/deprecation.py:87: FutureWarning: Function safe_indexing is deprecated; safe_indexing is deprecated in version 0.22 and will be removed in version 0.24.\n",
            "  warnings.warn(msg, category=FutureWarning)\n",
            "/usr/local/lib/python3.6/dist-packages/tensorflow/python/framework/indexed_slices.py:434: UserWarning: Converting sparse IndexedSlices to a dense Tensor of unknown shape. This may consume a large amount of memory.\n",
            "  \"Converting sparse IndexedSlices to a dense Tensor of unknown shape. \"\n"
          ],
          "name": "stderr"
        },
        {
          "output_type": "stream",
          "text": [
            "Epoch 1/5\n",
            "59440/59440 [==============================] - 95s 2ms/step - loss: 0.6932 - accuracy: 0.4974\n",
            "Epoch 2/5\n",
            "59440/59440 [==============================] - 94s 2ms/step - loss: 0.6903 - accuracy: 0.5058\n",
            "Epoch 3/5\n",
            "59440/59440 [==============================] - 93s 2ms/step - loss: 0.5631 - accuracy: 0.7053\n",
            "Epoch 4/5\n",
            "59440/59440 [==============================] - 93s 2ms/step - loss: 0.4600 - accuracy: 0.7823\n",
            "Epoch 5/5\n",
            "59440/59440 [==============================] - 93s 2ms/step - loss: 0.3702 - accuracy: 0.8328\n"
          ],
          "name": "stdout"
        },
        {
          "output_type": "execute_result",
          "data": {
            "text/plain": [
              "<keras.callbacks.callbacks.History at 0x7f1896b31908>"
            ]
          },
          "metadata": {
            "tags": []
          },
          "execution_count": 21
        }
      ]
    },
    {
      "cell_type": "code",
      "metadata": {
        "id": "h2KdhAIJiVJd",
        "colab_type": "code",
        "colab": {}
      },
      "source": [
        "model.save(\"Embedding_model_final.h5\")"
      ],
      "execution_count": 27,
      "outputs": []
    },
    {
      "cell_type": "code",
      "metadata": {
        "id": "DQEdOqLeoP0o",
        "colab_type": "code",
        "colab": {
          "base_uri": "https://localhost:8080/",
          "height": 34
        },
        "outputId": "91d5d62d-1944-47b6-aa8c-bf77e52cbfdd"
      },
      "source": [
        "padded_oversampled[0].flatten().shape"
      ],
      "execution_count": 23,
      "outputs": [
        {
          "output_type": "execute_result",
          "data": {
            "text/plain": [
              "(40,)"
            ]
          },
          "metadata": {
            "tags": []
          },
          "execution_count": 23
        }
      ]
    },
    {
      "cell_type": "code",
      "metadata": {
        "id": "LzRq3LEtoIE1",
        "colab_type": "code",
        "colab": {
          "base_uri": "https://localhost:8080/",
          "height": 34
        },
        "outputId": "330de10e-ea81-4eb2-f86d-ffa7eeae7a18"
      },
      "source": [
        "model.predict(padded_oversampled[0:1])"
      ],
      "execution_count": 24,
      "outputs": [
        {
          "output_type": "execute_result",
          "data": {
            "text/plain": [
              "array([[0.24713838]], dtype=float32)"
            ]
          },
          "metadata": {
            "tags": []
          },
          "execution_count": 24
        }
      ]
    },
    {
      "cell_type": "code",
      "metadata": {
        "id": "T45nsrc9iYKI",
        "colab_type": "code",
        "colab": {}
      },
      "source": [
        "import pickle\n",
        "\n",
        "# saving\n",
        "with open('tokenizer.pickle', 'wb') as handle:\n",
        "    pickle.dump(tokenizer, handle, protocol=pickle.HIGHEST_PROTOCOL)\n"
      ],
      "execution_count": 25,
      "outputs": []
    },
    {
      "cell_type": "code",
      "metadata": {
        "id": "NiHLD6rJko0y",
        "colab_type": "code",
        "colab": {
          "base_uri": "https://localhost:8080/",
          "height": 68
        },
        "outputId": "23270f9a-0de8-41d1-d8d3-0167afb3ab0b"
      },
      "source": [
        "from tensorflow.keras.preprocessing.sequence import pad_sequences\n",
        "nltk.download('stopwords')\n",
        "\n",
        "\n",
        "def predict_on_string(string, model_file, tokenizer_file):\n",
        "  model = tf.keras.models.load_model(model_file)\n",
        "  with open(tokenizer_file, 'rb') as handle:\n",
        "    tokenizer = pickle.load(handle)\n",
        "  review= re.sub('[^a-zA-Z]', ' ', string)\n",
        "\n",
        "  review= review.lower()\n",
        "  review= review.split()\n",
        "  review=[word for word in review if not word in set(stopwords.words('english'))]\n",
        "  ps= PorterStemmer()\n",
        "  review =[ps.stem(word) for word in review if not word in set(stopwords.words('english'))]\n",
        "  review=' '.join(review)\n",
        "  \n",
        "  seq = tokenizer.texts_to_sequences([review])\n",
        "  padded_data = pad_sequences(seq, padding=\"post\", maxlen = 40)\n",
        "  return model.predict(padded_data)\n",
        "\n",
        "#Add atleast 7-10 words to see good results. This makes sense since Tweets are generally longer than 20 words\n",
        "predict_on_string(\"This isnt as good as I expected it to be but I think its highly unacceptable to not try harder\", \"Embedding_model_final.h5\", \"tokenizer.pickle\")\n"
      ],
      "execution_count": 26,
      "outputs": [
        {
          "output_type": "stream",
          "text": [
            "[nltk_data] Downloading package stopwords to /root/nltk_data...\n",
            "[nltk_data]   Package stopwords is already up-to-date!\n"
          ],
          "name": "stdout"
        },
        {
          "output_type": "execute_result",
          "data": {
            "text/plain": [
              "array([[0.8478688]], dtype=float32)"
            ]
          },
          "metadata": {
            "tags": []
          },
          "execution_count": 26
        }
      ]
    },
    {
      "cell_type": "code",
      "metadata": {
        "id": "uJLUuOfMJvLV",
        "colab_type": "code",
        "colab": {}
      },
      "source": [
        ""
      ],
      "execution_count": null,
      "outputs": []
    }
  ]
}